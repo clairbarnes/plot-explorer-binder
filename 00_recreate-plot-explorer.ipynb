{
 "cells": [
  {
   "cell_type": "markdown",
   "id": "f75270df-3ea2-4147-ae5a-737a4065397e",
   "metadata": {},
   "source": [
    "This binder is provided to support the **UKCORDEX plot explorer** https://github-pages.ucl.ac.uk/UKCORDEX-plot-explorer/.\n",
    "\n",
    "It contains notebooks to replicate the plots provided, based on data summaries downloaded from the plot explorer. Users are free to modify the plots and use them in their work with appropriate acknowledgement.\n",
    "\n",
    "- [Boxplots of mean values of indices over the UK](boxplots.ipynb)\n",
    "- [Maps of ensemble mean bias/change in indices over the UK](maps-of-ensemble-means-and-sds.ipynb)\n",
    "- [Maps of within-ensemble standard deviation of bias/change in indices over the UK](maps-of-ensemble-means-and-sds.ipynb)\n",
    "- [Maps of individual ensemble members](maps-of-ensemble-members.ipynb)\n",
    "- [Maps of estimated partitioning of variance in the 'completed' EuroCORDEX ensemble](eurocordex-anova.ipynb)\n",
    "- [ensemble principal patterns](ensemble-principal-patterns.ipynb)"
   ]
  },
  {
   "cell_type": "code",
   "execution_count": null,
   "id": "73e1e69e-6af4-4d5a-8664-3b16a18715f8",
   "metadata": {},
   "outputs": [],
   "source": []
  }
 ],
 "metadata": {
  "kernelspec": {
   "display_name": "ukcordex-plots",
   "language": "python",
   "name": "ukcordex-plots"
  },
  "language_info": {
   "codemirror_mode": {
    "name": "ipython",
    "version": 3
   },
   "file_extension": ".py",
   "mimetype": "text/x-python",
   "name": "python",
   "nbconvert_exporter": "python",
   "pygments_lexer": "ipython3",
   "version": "3.10.4"
  }
 },
 "nbformat": 4,
 "nbformat_minor": 5
}
